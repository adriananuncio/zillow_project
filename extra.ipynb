{
 "cells": [
  {
   "cell_type": "code",
   "execution_count": null,
   "id": "7ed57a89",
   "metadata": {},
   "outputs": [],
   "source": [
    "# bathrooms x year built\n",
    "plt.figure(figsize=(15,15))\n",
    "sns.jointplot(x=\"bathrooms\", y=\"year_built\", data=train,  kind='reg', height=5)\n",
    "plt.show()\n",
    "\n",
    "# bedrooms x square ft\n",
    "plt.figure(figsize=(15,15))\n",
    "sns.jointplot(x=\"bedrooms\", y=\"sqr_ft\", data=train,  kind='reg', height=5)\n",
    "plt.show()\n",
    "\n",
    "# bedrooms x bathrooms\n",
    "plt.figure(figsize=(15,15))\n",
    "sns.jointplot(x=\"bedrooms\", y=\"bathrooms\", data=train,  kind='reg', height=5)\n",
    "plt.show()"
   ]
  },
  {
   "cell_type": "code",
   "execution_count": 3,
   "id": "5765b054",
   "metadata": {},
   "outputs": [],
   "source": [
    "# amount of null zipcode values in dataset\n",
    "# num_of_null = (len(train[train[\"regionidzip\"].isnull() == True]))\n",
    "# amount of values in dataset\n",
    "# total_rows = len(train.regionidzip)\n",
    "# percent of zipcode values that are null values\n",
    "# (num_of_null/total_rows)*100"
   ]
  },
  {
   "cell_type": "code",
   "execution_count": null,
   "id": "3918660f",
   "metadata": {},
   "outputs": [],
   "source": [
    "djfkmhgvjbhkj\n"
   ]
  }
 ],
 "metadata": {
  "kernelspec": {
   "display_name": "Python 3 (ipykernel)",
   "language": "python",
   "name": "python3"
  },
  "language_info": {
   "codemirror_mode": {
    "name": "ipython",
    "version": 3
   },
   "file_extension": ".py",
   "mimetype": "text/x-python",
   "name": "python",
   "nbconvert_exporter": "python",
   "pygments_lexer": "ipython3",
   "version": "3.9.13"
  }
 },
 "nbformat": 4,
 "nbformat_minor": 5
}
