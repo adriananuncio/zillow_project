{
 "cells": [
  {
   "cell_type": "code",
   "execution_count": null,
   "id": "c8622b65",
   "metadata": {},
   "outputs": [],
   "source": [
    "# standard imports\n",
    "import pandas as pd\n",
    "import numpy as np\n",
    "# stats\n",
    "from scipy import stats\n",
    "# sklearn\n",
    "from sklearn.linear_model import LinearRegression\n",
    "from sklearn.metrics import mean_squared_error"
   ]
  },
  {
   "cell_type": "code",
   "execution_count": null,
   "id": "9a650a31",
   "metadata": {},
   "outputs": [],
   "source": [
    "def retrieve_IQR(df, col_list, k):\n",
    "    for col in col_list:\n",
    "\n",
    "        q1, q3 = df[col].quantile([.25, .75])  # get quartiles\n",
    "        \n",
    "        iqr = q3 - q1   # calculate interquartile range\n",
    "        \n",
    "        upper_bound = q3 + k * iqr   # get upper bound\n",
    "        lower_bound = q1 - k * iqr   # get lower bound\n",
    "\n",
    "        # return dataframe without outliers\n",
    "        \n",
    "        df = df[(df[col] > lower_bound) & (df[col] < upper_bound)]\n",
    "    return df"
   ]
  },
  {
   "cell_type": "code",
   "execution_count": null,
   "id": "2cedf010",
   "metadata": {},
   "outputs": [],
   "source": [
    "def hypothesis_test(x, y):\n",
    "    α = 0.05\n",
    "    r, p = stats.pearsonr(x, y)\n",
    "    if p > α:\n",
    "        print(f'P-value: {p} \\nr-value: {r} \\nI fail to reject the null hypothesis.')\n",
    "    else:\n",
    "        print(f'P-value: {p} \\nr-value: {r} \\nI reject the null hypothesis.')"
   ]
  }
 ],
 "metadata": {
  "kernelspec": {
   "display_name": "Python 3 (ipykernel)",
   "language": "python",
   "name": "python3"
  },
  "language_info": {
   "codemirror_mode": {
    "name": "ipython",
    "version": 3
   },
   "file_extension": ".py",
   "mimetype": "text/x-python",
   "name": "python",
   "nbconvert_exporter": "python",
   "pygments_lexer": "ipython3",
   "version": "3.9.13"
  }
 },
 "nbformat": 4,
 "nbformat_minor": 5
}
